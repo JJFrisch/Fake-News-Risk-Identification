{
 "cells": [
  {
   "cell_type": "code",
   "execution_count": null,
   "metadata": {},
   "outputs": [],
   "source": [
    "import pandas as pd\n",
    "from xgboost import XGBClassifier\n",
    "\n",
    "clf = XGBClassifier()\n",
    "clf.load_model(\"CLF_model.json\")"
   ]
  },
  {
   "cell_type": "code",
   "execution_count": null,
   "metadata": {},
   "outputs": [],
   "source": [
    "# Get names of indexes for which column Age has value 30\n",
    "indexNames = database[ len(database['Data']) < 50 ].index\n",
    "# Delete these row indexes from dataFrame\n",
    "database.drop(indexNames , inplace=True)"
   ]
  },
  {
   "cell_type": "code",
   "execution_count": null,
   "metadata": {},
   "outputs": [],
   "source": [
    "# Import libraries\n",
    "import string\n",
    "import nltk\n",
    "import pandas as pd\n",
    "import numpy as np\n",
    "import spacy as sp\n",
    "from nltk.corpus import stopwords\n",
    "from sklearn import metrics\n",
    "from sklearn.feature_extraction.text import CountVectorizer\n",
    "from sklearn.model_selection import train_test_split\n",
    "\n",
    "import sys\n",
    "!{sys.executable} -m pip install xgboost\n",
    "\n",
    "nltk.download('stopwords')"
   ]
  },
  {
   "cell_type": "code",
   "execution_count": null,
   "metadata": {},
   "outputs": [],
   "source": [
    "NYTwebsite_text = \"\"\"On his first presidential visit to Saudi Arabia, Mr. Biden received an unsmiling fist bump from the crown prince before meeting King Salman. Their body language is being parsed amid tensions over the Saudi human rights record. President Biden used his visit to Israel this week to bolster the blossoming relationship between Israel and a handful of Arab states. But it is Mr. Biden’s own relationship with Saudi Arabia that looms largest over the second part of his four-day trip, and the kingdom’s welcome of him was being closely watched as an indication of how the overall visit might unfold.\n",
    "\n",
    "As Air Force One landed, just before 6 p.m. local time, the Saudi reception, while led by a senior member of the royal family, was decidedly lacking in pomp. Lining the lilac carpet were a small number of uniformed security officers bearing swords, but even fewer than were dispatched to welcome President Barack Obama when he arrived in the kingdom to a chilly reception in 2016.\n",
    "\n",
    "Mr. Biden emerged from the plane and made his way down the stairs for his first visit to Saudi Arabia as president, wearing his aviator shades, waving and looking serious. He was greeted by Princess Reema bint Bandar Al Saud, the Saudi ambassador to Washington, and Prince Khalid Al Faisal, a senior member of the royal family who is the governor of Mecca and is close to King Salman.\n",
    "\n",
    "The president climbed into his limousine just two minutes after disembarking. He was  taken directly to meet the king.\n",
    "\n",
    "Arriving at the al-Salam palace, Mr. Biden was met by Crown Prince Mohammed bin Salman, and the two exchanged an apparently wordless fist bump before the prince led the president inside.\n",
    "\n",
    "The Saudi-owned Al Arabiya satellite channel broadcast images of Mr. Biden being warmly welcomed by King Salman, and shaking his hand. Other images showed Mr. Biden and the king sitting next to each other in armchairs in an ornate room during a meeting, with other U.S. and Saudi officials, including Prince Mohammed, sitting nearby.\n",
    "\n",
    "Later, Mr. Biden is to hold a “working session” along with his team with Prince Mohammed and various Saudi ministers.Biden’s arrival in Saudi Arabia was polite but perfunctory compared with the enthusiastic greeting President Donald J. Trump received in 2017 when King Salman welcomed him on the tarmac. Mr. Trump made Saudi Arabia his first overseas destination as president, a sharp break with tradition and a sign of how closely he would align his administration with the Saudis.\n",
    "\n",
    "Even though Mr. Biden vowed as a candidate to punish Saudi Arabia over Mr. Khashoggi’s murder by making the kingdom a “pariah,” the president decided that it was worth the political cost of traveling there this week to counter Chinese influence, press for additional oil production and encourage closer ties with Israel.\n",
    "\n",
    "In other cases, recently including Cuba and Venezuela, Mr. Biden has stressed that his administration is making democracy and respect for human rights the paramount consideration for dealing with other nations’ leaders. But on Thursday in Jerusalem, he said he was going to Saudi Arabia in order to promote U.S. interests.\n",
    "\n",
    "Those include getting the kingdom to pump more oil from its somewhat modest spare capacity.\"\"\"\n",
    "dict = {'label':['unknown'],\n",
    "        'text':[NYTwebsite_text],\n",
    "       }\n",
    "data = pd.DataFrame(dict)\n",
    "\n",
    "def text_preprocess(message):\n",
    "    # Remove punctuations\n",
    "    nopunc = [char for char in message if char not in string.punctuation]\n",
    "\n",
    "    # Join the characters again\n",
    "    nopunc = \"\".join(nopunc)\n",
    "    nopunc = nopunc.lower()\n",
    "\n",
    "    # Remove any stopwords and characters that arent letters\n",
    "    nostop = [\n",
    "        word\n",
    "        for word in nopunc.split()\n",
    "        if word.lower() not in stopwords.words(\"english\") and word.isalpha()\n",
    "    ]\n",
    "    return nostop\n",
    "\n",
    "\n",
    "false_text = data[data[\"label\"] == \"fake\"][\"text\"]\n",
    "true_text = data[data[\"label\"] == \"true\"][\"text\"]\n",
    "print(f\"Number of fake messages: {len(false_text)}\")\n",
    "print(f\"Number of true messages: {len(true_text)}\")\n",
    "\n",
    "data[\"text\"] = data[\"text\"].apply(text_preprocess)\n",
    "\n",
    "####################################################################### TAKES FOREVER TO PROSESS\n",
    "from sklearn.utils import shuffle\n",
    "data_shuffled = dataset1.sample(frac=1).reset_index(drop=True)\n",
    "print(data_shuffled.head(10))\n",
    "#data_shuffled = dataset1.sample(len(dataset1))\n",
    "\n",
    "# 0.0878 seconds per row // 89.922 min for entire dataset\n",
    "\n",
    "# Remove punctuations/stopwords from all messages\n",
    "data_shuffled[\"text\"] = data_shuffled[\"text\"].apply(text_preprocess)\n",
    "data_shuffled.head(20)\n",
    "\n",
    "# Convert messages (as lists of string tokens) to strings\n",
    "data_shuffled[\"text\"] = data_shuffled[\"text\"].agg(lambda x: \" \".join(map(str, x)))\n",
    "data_shuffled.head()\n",
    "\n",
    "# Initialize count vectorizer\n",
    "vectorizer = CountVectorizer()\n",
    "bow_transformer = vectorizer.fit(data_shuffled[\"text\"])\n",
    "\n",
    "# Fetch the vocabulary set\n",
    "print(f\"20 BOW Features: {vectorizer.get_feature_names()[20:40]}\")\n",
    "print(f\"Total number of vocab words: {len(vectorizer.vocabulary_)}\")\n",
    "\n",
    "# Convert strings to vectors using BoW\n",
    "dataset1_bow = bow_transformer.transform(data_shuffled[\"text\"])\n",
    "\n",
    "# Print the shape of the sparse matrix and count the number of non-zero occurrences\n",
    "print(f\"Shape of sparse matrix: {dataset1_bow.shape}\")\n",
    "print(f\"Amount of non-zero occurrences: {dataset1_bow.nnz}\")\n"
   ]
  }
 ],
 "metadata": {
  "kernelspec": {
   "display_name": "Python 3.10.5 64-bit",
   "language": "python",
   "name": "python3"
  },
  "language_info": {
   "name": "python",
   "version": "3.10.5"
  },
  "orig_nbformat": 4,
  "vscode": {
   "interpreter": {
    "hash": "369f2c481f4da34e4445cda3fffd2e751bd1c4d706f27375911949ba6bb62e1c"
   }
  }
 },
 "nbformat": 4,
 "nbformat_minor": 2
}
