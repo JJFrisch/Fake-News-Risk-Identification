{
 "cells": [
  {
   "cell_type": "code",
   "execution_count": 5,
   "metadata": {},
   "outputs": [
    {
     "name": "stdout",
     "output_type": "stream",
     "text": [
      "Requirement already satisfied: selenium in c:\\users\\jjfri\\appdata\\local\\continuum\\anaconda3\\lib\\site-packages (4.3.0)\n",
      "Requirement already satisfied: trio~=0.17 in c:\\users\\jjfri\\appdata\\local\\continuum\\anaconda3\\lib\\site-packages (from selenium) (0.21.0)\n",
      "Collecting urllib3[secure,socks]~=1.26 (from selenium)\n",
      "  Using cached https://files.pythonhosted.org/packages/68/47/93d3d28e97c7577f563903907912f4b3804054e4877a5ba6651f7182c53b/urllib3-1.26.10-py2.py3-none-any.whl\n",
      "Requirement already satisfied: trio-websocket~=0.9 in c:\\users\\jjfri\\appdata\\local\\continuum\\anaconda3\\lib\\site-packages (from selenium) (0.9.2)\n",
      "Requirement already satisfied: idna in c:\\users\\jjfri\\appdata\\local\\continuum\\anaconda3\\lib\\site-packages (from trio~=0.17->selenium) (2.8)\n",
      "Requirement already satisfied: outcome in c:\\users\\jjfri\\appdata\\local\\continuum\\anaconda3\\lib\\site-packages (from trio~=0.17->selenium) (1.2.0)\n",
      "Requirement already satisfied: sortedcontainers in c:\\users\\jjfri\\appdata\\local\\continuum\\anaconda3\\lib\\site-packages (from trio~=0.17->selenium) (2.1.0)\n",
      "Requirement already satisfied: async-generator>=1.9 in c:\\users\\jjfri\\appdata\\local\\continuum\\anaconda3\\lib\\site-packages (from trio~=0.17->selenium) (1.10)\n",
      "Requirement already satisfied: attrs>=19.2.0 in c:\\users\\jjfri\\appdata\\local\\continuum\\anaconda3\\lib\\site-packages (from trio~=0.17->selenium) (21.4.0)\n",
      "Requirement already satisfied: sniffio in c:\\users\\jjfri\\appdata\\local\\continuum\\anaconda3\\lib\\site-packages (from trio~=0.17->selenium) (1.2.0)\n",
      "Requirement already satisfied: cffi>=1.14; os_name == \"nt\" and implementation_name != \"pypy\" in c:\\users\\jjfri\\appdata\\local\\continuum\\anaconda3\\lib\\site-packages (from trio~=0.17->selenium) (1.15.1)\n",
      "Requirement already satisfied: certifi; extra == \"secure\" in c:\\users\\jjfri\\appdata\\local\\continuum\\anaconda3\\lib\\site-packages (from urllib3[secure,socks]~=1.26->selenium) (2019.3.9)\n",
      "Requirement already satisfied: cryptography>=1.3.4; extra == \"secure\" in c:\\users\\jjfri\\appdata\\local\\continuum\\anaconda3\\lib\\site-packages (from urllib3[secure,socks]~=1.26->selenium) (2.6.1)\n",
      "Requirement already satisfied: pyOpenSSL>=0.14; extra == \"secure\" in c:\\users\\jjfri\\appdata\\local\\continuum\\anaconda3\\lib\\site-packages (from urllib3[secure,socks]~=1.26->selenium) (19.0.0)\n",
      "Requirement already satisfied: PySocks!=1.5.7,<2.0,>=1.5.6; extra == \"socks\" in c:\\users\\jjfri\\appdata\\local\\continuum\\anaconda3\\lib\\site-packages (from urllib3[secure,socks]~=1.26->selenium) (1.6.8)\n",
      "Requirement already satisfied: wsproto>=0.14 in c:\\users\\jjfri\\appdata\\local\\continuum\\anaconda3\\lib\\site-packages (from trio-websocket~=0.9->selenium) (1.1.0)\n",
      "Requirement already satisfied: pycparser in c:\\users\\jjfri\\appdata\\local\\continuum\\anaconda3\\lib\\site-packages (from cffi>=1.14; os_name == \"nt\" and implementation_name != \"pypy\"->trio~=0.17->selenium) (2.19)\n",
      "Requirement already satisfied: asn1crypto>=0.21.0 in c:\\users\\jjfri\\appdata\\local\\continuum\\anaconda3\\lib\\site-packages (from cryptography>=1.3.4; extra == \"secure\"->urllib3[secure,socks]~=1.26->selenium) (0.24.0)\n",
      "Requirement already satisfied: six>=1.4.1 in c:\\users\\jjfri\\appdata\\local\\continuum\\anaconda3\\lib\\site-packages (from cryptography>=1.3.4; extra == \"secure\"->urllib3[secure,socks]~=1.26->selenium) (1.12.0)\n",
      "Requirement already satisfied: h11<1,>=0.9.0 in c:\\users\\jjfri\\appdata\\local\\continuum\\anaconda3\\lib\\site-packages (from wsproto>=0.14->trio-websocket~=0.9->selenium) (0.13.0)\n",
      "Requirement already satisfied: typing-extensions; python_version < \"3.8\" in c:\\users\\jjfri\\appdata\\local\\continuum\\anaconda3\\lib\\site-packages (from h11<1,>=0.9.0->wsproto>=0.14->trio-websocket~=0.9->selenium) (4.1.1)\n",
      "Installing collected packages: urllib3\n",
      "  Found existing installation: urllib3 1.24.3\n",
      "    Uninstalling urllib3-1.24.3:\n",
      "      Successfully uninstalled urllib3-1.24.3\n",
      "Successfully installed urllib3-1.26.10\n"
     ]
    },
    {
     "name": "stderr",
     "output_type": "stream",
     "text": [
      "requests 2.21.0 has requirement urllib3<1.25,>=1.21.1, but you'll have urllib3 1.26.10 which is incompatible.\n"
     ]
    },
    {
     "name": "stdout",
     "output_type": "stream",
     "text": [
      "Requirement already satisfied: numpy in c:\\users\\jjfri\\appdata\\local\\continuum\\anaconda3\\lib\\site-packages (1.16.2)\n",
      "Requirement already satisfied: beautifulsoup4 in c:\\users\\jjfri\\appdata\\local\\continuum\\anaconda3\\lib\\site-packages (4.7.1)\n",
      "Requirement already satisfied: soupsieve>=1.2 in c:\\users\\jjfri\\appdata\\local\\continuum\\anaconda3\\lib\\site-packages (from beautifulsoup4) (1.8)\n",
      "Requirement already satisfied: webdriver_manager in c:\\users\\jjfri\\appdata\\local\\continuum\\anaconda3\\lib\\site-packages (3.8.2)\n",
      "Requirement already satisfied: python-dotenv in c:\\users\\jjfri\\appdata\\local\\continuum\\anaconda3\\lib\\site-packages (from webdriver_manager) (0.20.0)\n",
      "Requirement already satisfied: requests in c:\\users\\jjfri\\appdata\\local\\continuum\\anaconda3\\lib\\site-packages (from webdriver_manager) (2.21.0)\n",
      "Requirement already satisfied: idna<2.9,>=2.5 in c:\\users\\jjfri\\appdata\\local\\continuum\\anaconda3\\lib\\site-packages (from requests->webdriver_manager) (2.8)\n",
      "Requirement already satisfied: certifi>=2017.4.17 in c:\\users\\jjfri\\appdata\\local\\continuum\\anaconda3\\lib\\site-packages (from requests->webdriver_manager) (2019.3.9)\n",
      "Requirement already satisfied: chardet<3.1.0,>=3.0.2 in c:\\users\\jjfri\\appdata\\local\\continuum\\anaconda3\\lib\\site-packages (from requests->webdriver_manager) (3.0.4)\n",
      "Collecting urllib3<1.25,>=1.21.1 (from requests->webdriver_manager)\n",
      "  Using cached https://files.pythonhosted.org/packages/01/11/525b02e4acc0c747de8b6ccdab376331597c569c42ea66ab0a1dbd36eca2/urllib3-1.24.3-py2.py3-none-any.whl\n",
      "Installing collected packages: urllib3\n",
      "  Found existing installation: urllib3 1.26.10\n",
      "    Uninstalling urllib3-1.26.10:\n",
      "      Successfully uninstalled urllib3-1.26.10\n",
      "Successfully installed urllib3-1.24.3\n"
     ]
    },
    {
     "name": "stderr",
     "output_type": "stream",
     "text": [
      "selenium 4.3.0 has requirement urllib3[secure,socks]~=1.26, but you'll have urllib3 1.24.3 which is incompatible.\n"
     ]
    }
   ],
   "source": [
    "import sys\n",
    "!{sys.executable} -m pip install selenium\n",
    "!{sys.executable} -m pip install numpy\n",
    "!{sys.executable} -m pip install beautifulsoup4\n",
    "!{sys.executable} -m pip install webdriver_manager"
   ]
  },
  {
   "cell_type": "code",
   "execution_count": 6,
   "metadata": {},
   "outputs": [
    {
     "name": "stdout",
     "output_type": "stream",
     "text": [
      "\n"
     ]
    },
    {
     "name": "stderr",
     "output_type": "stream",
     "text": [
      "c:\\Users\\jjfri\\AppData\\Local\\Continuum\\anaconda3\\lib\\site-packages\\ipykernel_launcher.py:6: DeprecationWarning: executable_path has been deprecated, please pass in a Service object\n",
      "  \n"
     ]
    }
   ],
   "source": [
    "from selenium import webdriver\n",
    "from bs4 import BeautifulSoup\n",
    "import pandas as pd\n",
    "from webdriver_manager.chrome import ChromeDriverManager\n",
    "\n",
    "driver = webdriver.Chrome(ChromeDriverManager().install())\n",
    "\n",
    "products=[] #List to store name of the product\n",
    "prices=[] #List to store price of the product\n",
    "ratings=[] #List to store rating of the product\n",
    "driver.get(\"https://www.nytimes.com/2022/07/17/world/europe/europe-uk-heat-wave.html\")\n",
    "\n",
    "content = driver.page_source\n",
    "soup = BeautifulSoup(content)"
   ]
  },
  {
   "cell_type": "code",
   "execution_count": 7,
   "metadata": {},
   "outputs": [
    {
     "ename": "ModuleNotFoundError",
     "evalue": "No module named 'selenium.webdriver.opera'",
     "output_type": "error",
     "traceback": [
      "\u001b[1;31m---------------------------------------------------------------------------\u001b[0m",
      "\u001b[1;31mModuleNotFoundError\u001b[0m                       Traceback (most recent call last)",
      "\u001b[1;32m<ipython-input-7-4b70efbf1c4c>\u001b[0m in \u001b[0;36m<module>\u001b[1;34m\u001b[0m\n\u001b[0;32m      7\u001b[0m \u001b[1;32mfrom\u001b[0m \u001b[0mselenium\u001b[0m \u001b[1;32mimport\u001b[0m \u001b[0mwebdriver\u001b[0m\u001b[1;33m\u001b[0m\u001b[1;33m\u001b[0m\u001b[0m\n\u001b[0;32m      8\u001b[0m \u001b[1;32mfrom\u001b[0m \u001b[0mwebdriver_manager\u001b[0m\u001b[1;33m.\u001b[0m\u001b[0mopera\u001b[0m \u001b[1;32mimport\u001b[0m \u001b[0mOperaDriverManager\u001b[0m\u001b[1;33m\u001b[0m\u001b[1;33m\u001b[0m\u001b[0m\n\u001b[1;32m----> 9\u001b[1;33m \u001b[1;32mfrom\u001b[0m \u001b[0mselenium\u001b[0m\u001b[1;33m.\u001b[0m\u001b[0mwebdriver\u001b[0m\u001b[1;33m.\u001b[0m\u001b[0mopera\u001b[0m\u001b[1;33m.\u001b[0m\u001b[0moptions\u001b[0m \u001b[1;32mimport\u001b[0m \u001b[0mOptions\u001b[0m\u001b[1;33m\u001b[0m\u001b[1;33m\u001b[0m\u001b[0m\n\u001b[0m\u001b[0;32m     10\u001b[0m \u001b[1;33m\u001b[0m\u001b[0m\n\u001b[0;32m     11\u001b[0m \u001b[1;33m\u001b[0m\u001b[0m\n",
      "\u001b[1;31mModuleNotFoundError\u001b[0m: No module named 'selenium.webdriver.opera'"
     ]
    }
   ],
   "source": [
    "import unittest\n",
    "from selenium import webdriver\n",
    "import time\n",
    "from time import sleep\n",
    "\n",
    "\n",
    "from selenium import webdriver\n",
    "from webdriver_manager.opera import OperaDriverManager\n",
    "from selenium.webdriver.opera.options import Options\n",
    "\n",
    "\n",
    "options = webdriver.ChromeOptions()\n",
    "options.add_argument('allow-elevated-browser')\n",
    "options.binary_location = (r\"C:\\Users\\jjfri\\Downloads\\operadriver_win64\\operadriver_win64\\operadriver.exe\")\n",
    "driver = webdriver.Opera(executable_path=OperaDriverManager().install(), options=options)\n",
    "\n",
    "driver.get(\"https://www.nytimes.com/2022/07/17/world/europe/europe-uk-heat-wave.html\")\n",
    "#input_txt = driver.find_element_by_name('q')\n",
    "#input_txt.send_keys('operadriver\\n')"
   ]
  },
  {
   "cell_type": "code",
   "execution_count": 16,
   "metadata": {},
   "outputs": [
    {
     "name": "stderr",
     "output_type": "stream",
     "text": [
      "c:\\Users\\jjfri\\AppData\\Local\\Continuum\\anaconda3\\lib\\site-packages\\ipykernel_launcher.py:9: DeprecationWarning: executable_path has been deprecated, please pass in a Service object\n",
      "  if __name__ == '__main__':\n"
     ]
    },
    {
     "name": "stdout",
     "output_type": "stream",
     "text": [
      "None\n"
     ]
    },
    {
     "ename": "AttributeError",
     "evalue": "'NoneType' object has no attribute 'click'",
     "output_type": "error",
     "traceback": [
      "\u001b[1;31m---------------------------------------------------------------------------\u001b[0m",
      "\u001b[1;31mAttributeError\u001b[0m                            Traceback (most recent call last)",
      "\u001b[1;32m<ipython-input-16-dac6149b4dc2>\u001b[0m in \u001b[0;36m<module>\u001b[1;34m\u001b[0m\n\u001b[0;32m     13\u001b[0m     \u001b[0mbutton\u001b[0m \u001b[1;33m=\u001b[0m \u001b[0msoup\u001b[0m\u001b[1;33m.\u001b[0m\u001b[0mfind\u001b[0m\u001b[1;33m(\u001b[0m\u001b[1;34m'button'\u001b[0m\u001b[1;33m,\u001b[0m \u001b[0mattrs\u001b[0m\u001b[1;33m=\u001b[0m\u001b[1;33m{\u001b[0m\u001b[1;34m'class'\u001b[0m\u001b[1;33m:\u001b[0m\u001b[1;34m'tp-close'\u001b[0m\u001b[1;33m}\u001b[0m\u001b[1;33m)\u001b[0m\u001b[1;33m\u001b[0m\u001b[1;33m\u001b[0m\u001b[0m\n\u001b[0;32m     14\u001b[0m     \u001b[0mprint\u001b[0m\u001b[1;33m(\u001b[0m\u001b[0mbutton\u001b[0m\u001b[1;33m)\u001b[0m\u001b[1;33m\u001b[0m\u001b[1;33m\u001b[0m\u001b[0m\n\u001b[1;32m---> 15\u001b[1;33m     \u001b[0mbutton\u001b[0m\u001b[1;33m.\u001b[0m\u001b[0mclick\u001b[0m\u001b[1;33m(\u001b[0m\u001b[1;33m)\u001b[0m\u001b[1;33m\u001b[0m\u001b[1;33m\u001b[0m\u001b[0m\n\u001b[0m\u001b[0;32m     16\u001b[0m \u001b[1;33m\u001b[0m\u001b[0m\n\u001b[0;32m     17\u001b[0m     \u001b[1;32mfor\u001b[0m \u001b[0ma\u001b[0m \u001b[1;32min\u001b[0m \u001b[0msoup\u001b[0m\u001b[1;33m.\u001b[0m\u001b[0mfindAll\u001b[0m\u001b[1;33m(\u001b[0m\u001b[1;34m'div'\u001b[0m\u001b[1;33m,\u001b[0m \u001b[0mattrs\u001b[0m\u001b[1;33m=\u001b[0m\u001b[1;33m{\u001b[0m\u001b[1;34m'class'\u001b[0m\u001b[1;33m:\u001b[0m\u001b[1;34m'body-text-card__text'\u001b[0m\u001b[1;33m}\u001b[0m\u001b[1;33m)\u001b[0m\u001b[1;33m:\u001b[0m\u001b[1;33m\u001b[0m\u001b[1;33m\u001b[0m\u001b[0m\n",
      "\u001b[1;31mAttributeError\u001b[0m: 'NoneType' object has no attribute 'click'"
     ]
    }
   ],
   "source": [
    "# import required modules\n",
    "from selenium import webdriver\n",
    "  \n",
    "  \n",
    "# Driver Code\n",
    "if __name__ == '__main__':\n",
    "  \n",
    "    # create object\n",
    "    edgeBrowser = webdriver.Edge(r\"msedgedriver.exe\")\n",
    "  \n",
    "    # open browser and navigate to facebook\n",
    "    edgeBrowser.get('https://www.bbc.com/news/business-62240730')\n",
    "    button = soup.find('button', attrs={'class':'tp-close'})\n",
    "    print(button)\n",
    "    button.click()\n",
    "    \n",
    "    for a in soup.findAll('div', attrs={'class':'body-text-card__text'}):\n",
    "      name=a.find('p')\n",
    "      products.append(name.text)\n",
    "      print(a)\n",
    "      print(name)\n",
    "      print(products)\n",
    "    print(products)\n",
    "    df = pd.DataFrame({'Product Name':products}) \n",
    "    print(df.head(20))\n"
   ]
  },
  {
   "cell_type": "code",
   "execution_count": null,
   "metadata": {},
   "outputs": [
    {
     "name": "stdout",
     "output_type": "stream",
     "text": [
      "[]\n",
      "Empty DataFrame\n",
      "Columns: [Product Name]\n",
      "Index: []\n"
     ]
    }
   ],
   "source": [
    "for a in soup.findAll('section',href=True, attrs={'name':'articleBody'}):\n",
    "    name=a.find('div', attrs={'class':'css-s99gbd'})\n",
    "    products.append(name.text)\n",
    "    print(a)\n",
    "    print(name)\n",
    "    print(products)\n",
    "# print(a)\n",
    "print(products)\n",
    "df = pd.DataFrame({'Product Name':products}) \n",
    "print(df.head(20))\n",
    "#df.to_csv('products.csv', index=False, encoding='utf-8')\n"
   ]
  },
  {
   "cell_type": "code",
   "execution_count": 13,
   "metadata": {},
   "outputs": [
    {
     "data": {
      "text/html": [
       "<div>\n",
       "<style scoped>\n",
       "    .dataframe tbody tr th:only-of-type {\n",
       "        vertical-align: middle;\n",
       "    }\n",
       "\n",
       "    .dataframe tbody tr th {\n",
       "        vertical-align: top;\n",
       "    }\n",
       "\n",
       "    .dataframe thead th {\n",
       "        text-align: right;\n",
       "    }\n",
       "</style>\n",
       "<table border=\"1\" class=\"dataframe\">\n",
       "  <thead>\n",
       "    <tr style=\"text-align: right;\">\n",
       "      <th></th>\n",
       "      <th>label</th>\n",
       "      <th>text</th>\n",
       "    </tr>\n",
       "  </thead>\n",
       "  <tbody>\n",
       "    <tr>\n",
       "      <th>0</th>\n",
       "      <td>unknown</td>\n",
       "      <td>TOKYO (Reuters) - Britain and Japan said on Th...</td>\n",
       "    </tr>\n",
       "    <tr>\n",
       "      <th>1</th>\n",
       "      <td>unknown</td>\n",
       "      <td>NEW DELHI (Reuters) - Indian Prime Minister Na...</td>\n",
       "    </tr>\n",
       "  </tbody>\n",
       "</table>\n",
       "</div>"
      ],
      "text/plain": [
       "     label                                               text\n",
       "0  unknown  TOKYO (Reuters) - Britain and Japan said on Th...\n",
       "1  unknown  NEW DELHI (Reuters) - Indian Prime Minister Na..."
      ]
     },
     "execution_count": 13,
     "metadata": {},
     "output_type": "execute_result"
    }
   ],
   "source": [
    "import pandas as pd\n",
    "import numpy as np\n",
    "\n",
    "T1 = \"\"\"TOKYO (Reuters) - Britain and Japan said on Thursday they would cooperate in countering the threat posed by North Korea, two days after it fired a missile over northern Japan, and will call on China to exert its leverage. Prime Minister Theresa May, looking to strengthen relations with one of her closest allies ahead of Brexit, is visiting Japan as it responds to an increasing military threat. Terming North Korea s missile program  a global threat , Prime Minister Shinzo Abe told a news conference that Japan and Britain would cooperate.  It is very meaningful that Prime Minister May and I agreed to further strengthen pressure on North Korea and to call on China to play a larger role,  he added. May agreed, noting that China, North Korea s lone major ally, had been involved in U.N. Security Council debate earlier this week.   China does have a particular position in this, they have leverage on North Korea and I believe we should be encouraging China to exercise that leverage to do what we all want - which is to ensure that North Korea is not conducting these illegal acts.  May toured Japan s flagship Izumo helicopter carrier for a military briefing with Minister of Defence Itsunori Onodera before attending a national security meeting. May and Abe agreed on a joint declaration on security cooperation, including plans for British soldiers to take part in military exercises on Japanese soil and for collaboration to address the threat of cyber and militant attacks when Japan hosts the Olympics in 2020.  North Korea featured heavily in the talks after it launched a ballistic missile on Tuesday that passed over Japanese territory, prompting international condemnation.  May s office had said the two leaders were expected to discuss the possibility of further sanctions on North Korea, but neither Abe nor May touched on the issue at the news conference. The Global Times, a publication of the official People s Daily of China s ruling Communist Party, criticized an earlier comment of May s comment calling for more pressure from China.  Beijing does not need London to teach it how to deal with North Korea,  the newspaper said. Asked about the United States, Japan and Britain looking to impose new sanctions on North Korea, Chinese Foreign Ministry spokeswoman Hua Chunying said the situation could only be resolved peacefully through dialogue.  We think it is regrettable that some countries selectively overlook the relevant Security Council resolutions  demand to advance dialogue, and stubbornly emphasize pressure and sanctions,  she told a daily news briefing.  OUTWARD-LOOKING  Apart from security, May s trip has focused on trade and investment. She is keen to convince nervy investors that Britain s exit from the European Union will not make it a less attractive business partner. Both May and Abe addressed a delegation of British business leaders and senior representatives from major Japanese investors in Britain, such as carmakers Nissan, Toyota and conglomerate Hitachi. Abe told the gathering that May had assured him Britain s negotiations on leaving the European Union would be transparent. May said Japanese investment after Britain s vote to leave the EU was a vote of confidence and she pledged to build close trade ties with Japan.  I very much welcome the commitment from Japanese companies such as Nissan, Toyota, Softbank and Hitachi,  May said.  I am determined that we will seize the opportunity to become an ever more outward-looking global Britain, deepening our trade relations with old friends and new allies.   During a two-hour train ride between Kyoto and Tokyo late on Wednesday, the two leaders discussed Brexit, with May talking Abe through the details of a series of papers published in recent weeks setting out her negotiating position. May said on Wednesday Japan s upcoming trade deal with the EU could offer a template for a future Japan-Britain trade agreement, the latest attempt to show investors that Brexit will not lead to an overnight change in business conditions. Japan has been unusually open about its concerns over Brexit, worrying that 40 billion pounds ($51.68 billion) of Japanese investment in the British economy could suffer if trading conditions change abruptly when Britain leaves the bloc.\"\"\"\n",
    "\n",
    "T2 = '''NEW DELHI (Reuters) - Indian Prime Minister Narendra Modi plans to reshuffle his cabinet over the next two days and some mid-level ministers have offered to quit to pave the way for changes, sources in the party and aides to the ministers said. A revamp of the cabinet has been on the cards for months because some ministers are holding multiple portfolios which is seen as a drag on efficiency. Modi is also seeking to improve governance before he seeks re-election in 2019.     With economic growth slowing to its slowest pace in three years, Modi is coming under pressure to deliver the promises he made in 2014.     There was no official announcement of the cabinet revamp but  sources Reuters spoke to said if it took place it would have to be done before Modi leaves on a foreign tour on Sunday.     The death of Environment Minister Anil Madhav Dave and the election of Minister for Urban Development M. Venkaiah Naidu as vice-president opened vacancies, giving Modi an opportunity to bring in members from regional political parties.     According to four party sources, Sanjeev Balyan, minister of state for water resources, Rajiv Pratap Rudy, minister of state for skill development and entrepreneurship, Kalraj Mishra, minister of micro, small and medium enterprises, and Mahendra Nath Pandey minister of state for human resource development have all offered to resign.'''\n",
    "\n",
    "T3 = \"hello world\"\n",
    "\n",
    "dict = {'label':['unknown', 'unknown', 'unknown'],\n",
    "        'text':[T1, T2, T3],\n",
    "       }\n",
    "df = pd.DataFrame(dict)\n",
    "df.head()\n",
    "df[df.text.apply(lambda x: len(x) > 50)]\n"
   ]
  }
 ],
 "metadata": {
  "kernelspec": {
   "display_name": "Python 3.7.3 ('base')",
   "language": "python",
   "name": "python3"
  },
  "language_info": {
   "codemirror_mode": {
    "name": "ipython",
    "version": 3
   },
   "file_extension": ".py",
   "mimetype": "text/x-python",
   "name": "python",
   "nbconvert_exporter": "python",
   "pygments_lexer": "ipython3",
   "version": "3.7.3"
  },
  "orig_nbformat": 4,
  "vscode": {
   "interpreter": {

    "hash": "e7f9b176e99b0b7699e163eb9975710d46148f2747eaa4ceb3869c0d6f92460c"
 main
   }
  }
 },
 "nbformat": 4,
 "nbformat_minor": 2
}
